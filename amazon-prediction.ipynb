{
 "cells": [
  {
   "cell_type": "code",
   "execution_count": 1,
   "id": "24039b14",
   "metadata": {
    "_cell_guid": "b1076dfc-b9ad-4769-8c92-a6c4dae69d19",
    "_uuid": "8f2839f25d086af736a60e9eeb907d3b93b6e0e5",
    "execution": {
     "iopub.execute_input": "2021-10-02T12:35:33.442664Z",
     "iopub.status.busy": "2021-10-02T12:35:33.441551Z",
     "iopub.status.idle": "2021-10-02T12:35:33.447637Z",
     "shell.execute_reply": "2021-10-02T12:35:33.446944Z",
     "shell.execute_reply.started": "2021-10-02T12:25:30.989888Z"
    },
    "papermill": {
     "duration": 0.049496,
     "end_time": "2021-10-02T12:35:33.447818",
     "exception": false,
     "start_time": "2021-10-02T12:35:33.398322",
     "status": "completed"
    },
    "tags": []
   },
   "outputs": [
    {
     "name": "stdout",
     "output_type": "stream",
     "text": [
      "/kaggle/input/amazon-employee-access-challenge/sampleSubmission.csv\n",
      "/kaggle/input/amazon-employee-access-challenge/train.csv\n",
      "/kaggle/input/amazon-employee-access-challenge/test.csv\n"
     ]
    }
   ],
   "source": [
    "# This Python 3 environment comes with many helpful analytics libraries installed\n",
    "# It is defined by the kaggle/python Docker image: https://github.com/kaggle/docker-python\n",
    "# For example, here's several helpful packages to load\n",
    "\n",
    "import numpy as np # linear algebra\n",
    "import pandas as pd # data processing, CSV file I/O (e.g. pd.read_csv)\n",
    "\n",
    "# Input data files are available in the read-only \"../input/\" directory\n",
    "# For example, running this (by clicking run or pressing Shift+Enter) will list all files under the input directory\n",
    "\n",
    "import os\n",
    "for dirname, _, filenames in os.walk('/kaggle/input'):\n",
    "    for filename in filenames:\n",
    "        print(os.path.join(dirname, filename))\n",
    "\n",
    "# You can write up to 20GB to the current directory (/kaggle/working/) that gets preserved as output when you create a version using \"Save & Run All\" \n",
    "# You can also write temporary files to /kaggle/temp/, but they won't be saved outside of the current session"
   ]
  },
  {
   "cell_type": "code",
   "execution_count": 2,
   "id": "bb1a3aed",
   "metadata": {
    "execution": {
     "iopub.execute_input": "2021-10-02T12:35:33.520465Z",
     "iopub.status.busy": "2021-10-02T12:35:33.519228Z",
     "iopub.status.idle": "2021-10-02T12:35:43.409446Z",
     "shell.execute_reply": "2021-10-02T12:35:43.408628Z",
     "shell.execute_reply.started": "2021-10-02T12:25:30.998529Z"
    },
    "papermill": {
     "duration": 9.931919,
     "end_time": "2021-10-02T12:35:43.409606",
     "exception": false,
     "start_time": "2021-10-02T12:35:33.477687",
     "status": "completed"
    },
    "tags": []
   },
   "outputs": [
    {
     "name": "stdout",
     "output_type": "stream",
     "text": [
      "Requirement already satisfied: catboost in /opt/conda/lib/python3.7/site-packages (0.26)\r\n",
      "Requirement already satisfied: matplotlib in /opt/conda/lib/python3.7/site-packages (from catboost) (3.4.2)\r\n",
      "Requirement already satisfied: graphviz in /opt/conda/lib/python3.7/site-packages (from catboost) (0.8.4)\r\n",
      "Requirement already satisfied: numpy>=1.16.0 in /opt/conda/lib/python3.7/site-packages (from catboost) (1.19.5)\r\n",
      "Requirement already satisfied: scipy in /opt/conda/lib/python3.7/site-packages (from catboost) (1.6.3)\r\n",
      "Requirement already satisfied: plotly in /opt/conda/lib/python3.7/site-packages (from catboost) (5.1.0)\r\n",
      "Requirement already satisfied: six in /opt/conda/lib/python3.7/site-packages (from catboost) (1.15.0)\r\n",
      "Requirement already satisfied: pandas>=0.24.0 in /opt/conda/lib/python3.7/site-packages (from catboost) (1.2.4)\r\n",
      "Requirement already satisfied: python-dateutil>=2.7.3 in /opt/conda/lib/python3.7/site-packages (from pandas>=0.24.0->catboost) (2.8.1)\r\n",
      "Requirement already satisfied: pytz>=2017.3 in /opt/conda/lib/python3.7/site-packages (from pandas>=0.24.0->catboost) (2021.1)\r\n",
      "Requirement already satisfied: pyparsing>=2.2.1 in /opt/conda/lib/python3.7/site-packages (from matplotlib->catboost) (2.4.7)\r\n",
      "Requirement already satisfied: cycler>=0.10 in /opt/conda/lib/python3.7/site-packages (from matplotlib->catboost) (0.10.0)\r\n",
      "Requirement already satisfied: kiwisolver>=1.0.1 in /opt/conda/lib/python3.7/site-packages (from matplotlib->catboost) (1.3.1)\r\n",
      "Requirement already satisfied: pillow>=6.2.0 in /opt/conda/lib/python3.7/site-packages (from matplotlib->catboost) (8.2.0)\r\n",
      "Requirement already satisfied: tenacity>=6.2.0 in /opt/conda/lib/python3.7/site-packages (from plotly->catboost) (7.0.0)\r\n",
      "\u001b[33mWARNING: Running pip as root will break packages and permissions. You should install packages reliably by using venv: https://pip.pypa.io/warnings/venv\u001b[0m\r\n"
     ]
    }
   ],
   "source": [
    "import seaborn as sns\n",
    "from matplotlib import pyplot as plt\n",
    "!pip install --user catboost\n",
    "import catboost\n",
    "from catboost import *"
   ]
  },
  {
   "cell_type": "code",
   "execution_count": 3,
   "id": "644130dc",
   "metadata": {
    "execution": {
     "iopub.execute_input": "2021-10-02T12:35:43.475369Z",
     "iopub.status.busy": "2021-10-02T12:35:43.474669Z",
     "iopub.status.idle": "2021-10-02T12:35:43.477428Z",
     "shell.execute_reply": "2021-10-02T12:35:43.477971Z",
     "shell.execute_reply.started": "2021-10-02T12:25:39.629772Z"
    },
    "papermill": {
     "duration": 0.03851,
     "end_time": "2021-10-02T12:35:43.478170",
     "exception": false,
     "start_time": "2021-10-02T12:35:43.439660",
     "status": "completed"
    },
    "tags": []
   },
   "outputs": [],
   "source": [
    "os.chdir('/kaggle/input/amazon-employee-access-challenge/')"
   ]
  },
  {
   "cell_type": "code",
   "execution_count": 4,
   "id": "e7a664c8",
   "metadata": {
    "execution": {
     "iopub.execute_input": "2021-10-02T12:35:43.554614Z",
     "iopub.status.busy": "2021-10-02T12:35:43.553807Z",
     "iopub.status.idle": "2021-10-02T12:35:43.780732Z",
     "shell.execute_reply": "2021-10-02T12:35:43.781260Z",
     "shell.execute_reply.started": "2021-10-02T12:25:39.637262Z"
    },
    "papermill": {
     "duration": 0.268877,
     "end_time": "2021-10-02T12:35:43.781490",
     "exception": false,
     "start_time": "2021-10-02T12:35:43.512613",
     "status": "completed"
    },
    "tags": []
   },
   "outputs": [],
   "source": [
    "train = pd.read_csv('train.csv')\n",
    "test = pd.read_csv('test.csv')"
   ]
  },
  {
   "cell_type": "code",
   "execution_count": 5,
   "id": "b251150e",
   "metadata": {
    "execution": {
     "iopub.execute_input": "2021-10-02T12:35:43.843916Z",
     "iopub.status.busy": "2021-10-02T12:35:43.843225Z",
     "iopub.status.idle": "2021-10-02T12:35:43.872331Z",
     "shell.execute_reply": "2021-10-02T12:35:43.872851Z",
     "shell.execute_reply.started": "2021-10-02T12:25:39.865310Z"
    },
    "papermill": {
     "duration": 0.061853,
     "end_time": "2021-10-02T12:35:43.873028",
     "exception": false,
     "start_time": "2021-10-02T12:35:43.811175",
     "status": "completed"
    },
    "tags": []
   },
   "outputs": [
    {
     "data": {
      "text/html": [
       "<div>\n",
       "<style scoped>\n",
       "    .dataframe tbody tr th:only-of-type {\n",
       "        vertical-align: middle;\n",
       "    }\n",
       "\n",
       "    .dataframe tbody tr th {\n",
       "        vertical-align: top;\n",
       "    }\n",
       "\n",
       "    .dataframe thead th {\n",
       "        text-align: right;\n",
       "    }\n",
       "</style>\n",
       "<table border=\"1\" class=\"dataframe\">\n",
       "  <thead>\n",
       "    <tr style=\"text-align: right;\">\n",
       "      <th></th>\n",
       "      <th>ACTION</th>\n",
       "      <th>RESOURCE</th>\n",
       "      <th>MGR_ID</th>\n",
       "      <th>ROLE_ROLLUP_1</th>\n",
       "      <th>ROLE_ROLLUP_2</th>\n",
       "      <th>ROLE_DEPTNAME</th>\n",
       "      <th>ROLE_TITLE</th>\n",
       "      <th>ROLE_FAMILY_DESC</th>\n",
       "      <th>ROLE_FAMILY</th>\n",
       "      <th>ROLE_CODE</th>\n",
       "    </tr>\n",
       "  </thead>\n",
       "  <tbody>\n",
       "    <tr>\n",
       "      <th>0</th>\n",
       "      <td>1</td>\n",
       "      <td>39353</td>\n",
       "      <td>85475</td>\n",
       "      <td>117961</td>\n",
       "      <td>118300</td>\n",
       "      <td>123472</td>\n",
       "      <td>117905</td>\n",
       "      <td>117906</td>\n",
       "      <td>290919</td>\n",
       "      <td>117908</td>\n",
       "    </tr>\n",
       "    <tr>\n",
       "      <th>1</th>\n",
       "      <td>1</td>\n",
       "      <td>17183</td>\n",
       "      <td>1540</td>\n",
       "      <td>117961</td>\n",
       "      <td>118343</td>\n",
       "      <td>123125</td>\n",
       "      <td>118536</td>\n",
       "      <td>118536</td>\n",
       "      <td>308574</td>\n",
       "      <td>118539</td>\n",
       "    </tr>\n",
       "    <tr>\n",
       "      <th>2</th>\n",
       "      <td>1</td>\n",
       "      <td>36724</td>\n",
       "      <td>14457</td>\n",
       "      <td>118219</td>\n",
       "      <td>118220</td>\n",
       "      <td>117884</td>\n",
       "      <td>117879</td>\n",
       "      <td>267952</td>\n",
       "      <td>19721</td>\n",
       "      <td>117880</td>\n",
       "    </tr>\n",
       "    <tr>\n",
       "      <th>3</th>\n",
       "      <td>1</td>\n",
       "      <td>36135</td>\n",
       "      <td>5396</td>\n",
       "      <td>117961</td>\n",
       "      <td>118343</td>\n",
       "      <td>119993</td>\n",
       "      <td>118321</td>\n",
       "      <td>240983</td>\n",
       "      <td>290919</td>\n",
       "      <td>118322</td>\n",
       "    </tr>\n",
       "    <tr>\n",
       "      <th>4</th>\n",
       "      <td>1</td>\n",
       "      <td>42680</td>\n",
       "      <td>5905</td>\n",
       "      <td>117929</td>\n",
       "      <td>117930</td>\n",
       "      <td>119569</td>\n",
       "      <td>119323</td>\n",
       "      <td>123932</td>\n",
       "      <td>19793</td>\n",
       "      <td>119325</td>\n",
       "    </tr>\n",
       "  </tbody>\n",
       "</table>\n",
       "</div>"
      ],
      "text/plain": [
       "   ACTION  RESOURCE  MGR_ID  ROLE_ROLLUP_1  ROLE_ROLLUP_2  ROLE_DEPTNAME  \\\n",
       "0       1     39353   85475         117961         118300         123472   \n",
       "1       1     17183    1540         117961         118343         123125   \n",
       "2       1     36724   14457         118219         118220         117884   \n",
       "3       1     36135    5396         117961         118343         119993   \n",
       "4       1     42680    5905         117929         117930         119569   \n",
       "\n",
       "   ROLE_TITLE  ROLE_FAMILY_DESC  ROLE_FAMILY  ROLE_CODE  \n",
       "0      117905            117906       290919     117908  \n",
       "1      118536            118536       308574     118539  \n",
       "2      117879            267952        19721     117880  \n",
       "3      118321            240983       290919     118322  \n",
       "4      119323            123932        19793     119325  "
      ]
     },
     "execution_count": 5,
     "metadata": {},
     "output_type": "execute_result"
    }
   ],
   "source": [
    "train.head()"
   ]
  },
  {
   "cell_type": "markdown",
   "id": "95959040",
   "metadata": {
    "papermill": {
     "duration": 0.030876,
     "end_time": "2021-10-02T12:35:43.935523",
     "exception": false,
     "start_time": "2021-10-02T12:35:43.904647",
     "status": "completed"
    },
    "tags": []
   },
   "source": [
    "### EDA on features  \n",
    "We don't see any null values present in the training or test data"
   ]
  },
  {
   "cell_type": "code",
   "execution_count": 6,
   "id": "c015719f",
   "metadata": {
    "execution": {
     "iopub.execute_input": "2021-10-02T12:35:44.002160Z",
     "iopub.status.busy": "2021-10-02T12:35:44.001362Z",
     "iopub.status.idle": "2021-10-02T12:35:44.015190Z",
     "shell.execute_reply": "2021-10-02T12:35:44.014198Z",
     "shell.execute_reply.started": "2021-10-02T12:25:39.896131Z"
    },
    "papermill": {
     "duration": 0.049362,
     "end_time": "2021-10-02T12:35:44.015436",
     "exception": false,
     "start_time": "2021-10-02T12:35:43.966074",
     "status": "completed"
    },
    "tags": []
   },
   "outputs": [
    {
     "name": "stdout",
     "output_type": "stream",
     "text": [
      "ACTION              0\n",
      "RESOURCE            0\n",
      "MGR_ID              0\n",
      "ROLE_ROLLUP_1       0\n",
      "ROLE_ROLLUP_2       0\n",
      "ROLE_DEPTNAME       0\n",
      "ROLE_TITLE          0\n",
      "ROLE_FAMILY_DESC    0\n",
      "ROLE_FAMILY         0\n",
      "ROLE_CODE           0\n",
      "dtype: int64\n"
     ]
    },
    {
     "data": {
      "text/plain": [
       "id                  0\n",
       "RESOURCE            0\n",
       "MGR_ID              0\n",
       "ROLE_ROLLUP_1       0\n",
       "ROLE_ROLLUP_2       0\n",
       "ROLE_DEPTNAME       0\n",
       "ROLE_TITLE          0\n",
       "ROLE_FAMILY_DESC    0\n",
       "ROLE_FAMILY         0\n",
       "ROLE_CODE           0\n",
       "dtype: int64"
      ]
     },
     "execution_count": 6,
     "metadata": {},
     "output_type": "execute_result"
    }
   ],
   "source": [
    "print(train.isnull().sum())\n",
    "test.isnull().sum()"
   ]
  },
  {
   "cell_type": "code",
   "execution_count": 7,
   "id": "a1832850",
   "metadata": {
    "execution": {
     "iopub.execute_input": "2021-10-02T12:35:44.084688Z",
     "iopub.status.busy": "2021-10-02T12:35:44.083964Z",
     "iopub.status.idle": "2021-10-02T12:35:44.097361Z",
     "shell.execute_reply": "2021-10-02T12:35:44.096703Z",
     "shell.execute_reply.started": "2021-10-02T12:25:39.911105Z"
    },
    "papermill": {
     "duration": 0.049646,
     "end_time": "2021-10-02T12:35:44.097545",
     "exception": false,
     "start_time": "2021-10-02T12:35:44.047899",
     "status": "completed"
    },
    "tags": []
   },
   "outputs": [
    {
     "data": {
      "text/plain": [
       "array([117880, 118865, 118175, 120774, 118425, 125795, 118055, 124196,\n",
       "       119082, 118322, 117908, 118570, 118892, 118687, 118539, 118332,\n",
       "       127783, 120346, 118046, 163732, 117888, 119851, 118639, 120954,\n",
       "       119929, 128231, 126518, 120580, 118232, 118803, 118836, 118926,\n",
       "       118749, 120099, 132098, 122271, 118794, 118209, 123672, 118525,\n",
       "       120315, 122275, 124888, 118319, 118399, 118786, 119589, 124436,\n",
       "       122850, 131851, 120692, 123047, 117973, 118779, 118454, 118261,\n",
       "       120904, 120359, 118997, 118276, 128424, 119435, 118843, 119067,\n",
       "       119096, 117948, 129911, 118475, 118644, 118364, 117898, 124154,\n",
       "       118468, 128765, 120008, 120593, 124578, 120619, 120529, 137970,\n",
       "       120814, 128095, 118373, 118943, 118914, 153959, 120303, 119353,\n",
       "       118296, 121145, 121070, 123068, 118982, 120791, 120419, 118807,\n",
       "       120767, 122069, 118828, 126870, 119951, 122292, 119348, 129231,\n",
       "       117900, 120562, 133308, 126112, 118899, 121596, 123738, 120173,\n",
       "       118486, 122024, 247660, 121529, 121471, 120058, 118030, 125689,\n",
       "       119978, 123192, 118279, 120649, 138021, 118565, 119194, 126140,\n",
       "       120623, 125753, 119139, 123650, 122647, 130858, 122062, 119174,\n",
       "       130481, 119531, 118705, 122954, 118813, 119325, 122991, 119964,\n",
       "       120035, 123075, 120499, 126822, 133113, 119007, 120634, 121416,\n",
       "       126685, 123617, 118763, 120992, 120704, 118461, 133719, 120613,\n",
       "       119998, 124307, 120519, 122131, 124137, 118961, 129563, 166594,\n",
       "       135742, 124812, 118505, 118206, 126266, 121017, 118132, 118730,\n",
       "       128353, 123652, 135811, 118532, 122969, 132694, 121374, 119365,\n",
       "       118676, 120117, 128905, 152310, 118196, 134657, 122552, 123180,\n",
       "       127702, 119900, 150754, 143185, 121124, 120071, 120135, 126186,\n",
       "       120989, 132673, 121917, 127725, 119779, 119079, 124421, 150076,\n",
       "       126080, 144355, 120577, 125800, 149354, 120629, 124315, 118737,\n",
       "       130638, 149339, 122516, 169635, 159118, 120350, 127659, 146952,\n",
       "       125173, 122929, 124777, 127110, 127391, 132000, 136702, 124924,\n",
       "       127958, 118049, 134069, 146251, 119745, 123084, 270691, 121248,\n",
       "       123133, 134120, 140849, 163313, 122346, 119411, 122862, 131797,\n",
       "       131254, 240462, 122033, 126087, 132585, 124562, 123686, 136117,\n",
       "       139967, 120285, 120003, 128199, 192869, 124488, 119503, 184276,\n",
       "       149918, 120204, 125012, 121621, 162862, 258436, 138139, 119817,\n",
       "       147124, 153249, 119785, 127851, 130365, 130062, 126540, 123410,\n",
       "       180928, 174393, 130285, 121366, 161101, 124539, 132502, 135125,\n",
       "       157361, 216827, 124146, 122143, 130607, 254396, 123612, 119887,\n",
       "       118479, 159680, 119789, 120364, 212194, 132105, 159789, 193025,\n",
       "       127032, 209875, 130261, 124247, 119222, 131338, 149230, 117987,\n",
       "       136061, 121499, 121395, 132726, 153084, 133648, 187169, 153076,\n",
       "       157301, 124801, 157348, 126549, 125408, 126295, 126420, 126748,\n",
       "       158291, 123657, 127848, 123402, 124002, 123690, 122190, 239004,\n",
       "       153895, 185124, 132739, 137371, 123851, 131066, 127590, 134978,\n",
       "       176742, 157801, 155111, 127796, 172580, 215321, 126933])"
      ]
     },
     "execution_count": 7,
     "metadata": {},
     "output_type": "execute_result"
    }
   ],
   "source": [
    "test['ROLE_CODE'].unique()"
   ]
  },
  {
   "cell_type": "markdown",
   "id": "9a6065dc",
   "metadata": {
    "papermill": {
     "duration": 0.031324,
     "end_time": "2021-10-02T12:35:44.161024",
     "exception": false,
     "start_time": "2021-10-02T12:35:44.129700",
     "status": "completed"
    },
    "tags": []
   },
   "source": [
    "The columns contain categorical values. A naive bayes, Decision Tree solution as starting point should be taken. "
   ]
  },
  {
   "cell_type": "code",
   "execution_count": 8,
   "id": "c9837352",
   "metadata": {
    "execution": {
     "iopub.execute_input": "2021-10-02T12:35:44.229046Z",
     "iopub.status.busy": "2021-10-02T12:35:44.228339Z",
     "iopub.status.idle": "2021-10-02T12:35:44.231768Z",
     "shell.execute_reply": "2021-10-02T12:35:44.231085Z",
     "shell.execute_reply.started": "2021-10-02T12:25:39.923532Z"
    },
    "papermill": {
     "duration": 0.039399,
     "end_time": "2021-10-02T12:35:44.231921",
     "exception": false,
     "start_time": "2021-10-02T12:35:44.192522",
     "status": "completed"
    },
    "tags": []
   },
   "outputs": [],
   "source": [
    "# !pip install klib\n",
    "# import klib"
   ]
  },
  {
   "cell_type": "code",
   "execution_count": 9,
   "id": "f2efe261",
   "metadata": {
    "execution": {
     "iopub.execute_input": "2021-10-02T12:35:44.310710Z",
     "iopub.status.busy": "2021-10-02T12:35:44.310005Z",
     "iopub.status.idle": "2021-10-02T12:35:44.313209Z",
     "shell.execute_reply": "2021-10-02T12:35:44.312580Z",
     "shell.execute_reply.started": "2021-10-02T12:25:39.929094Z"
    },
    "papermill": {
     "duration": 0.049336,
     "end_time": "2021-10-02T12:35:44.313357",
     "exception": false,
     "start_time": "2021-10-02T12:35:44.264021",
     "status": "completed"
    },
    "tags": []
   },
   "outputs": [],
   "source": [
    "df = train.drop(columns=['ACTION'])\n",
    "train_x = train.drop(columns=['ACTION'])\n",
    "train_y = train['ACTION'] \n",
    "test_x = test.drop(columns=['id'])\n",
    "# test_y = test['ACTION']"
   ]
  },
  {
   "cell_type": "code",
   "execution_count": 10,
   "id": "ea673e19",
   "metadata": {
    "execution": {
     "iopub.execute_input": "2021-10-02T12:35:44.392970Z",
     "iopub.status.busy": "2021-10-02T12:35:44.391911Z",
     "iopub.status.idle": "2021-10-02T12:35:44.396083Z",
     "shell.execute_reply": "2021-10-02T12:35:44.396605Z",
     "shell.execute_reply.started": "2021-10-02T12:25:39.947812Z"
    },
    "papermill": {
     "duration": 0.050608,
     "end_time": "2021-10-02T12:35:44.396783",
     "exception": false,
     "start_time": "2021-10-02T12:35:44.346175",
     "status": "completed"
    },
    "tags": []
   },
   "outputs": [
    {
     "data": {
      "text/html": [
       "<div>\n",
       "<style scoped>\n",
       "    .dataframe tbody tr th:only-of-type {\n",
       "        vertical-align: middle;\n",
       "    }\n",
       "\n",
       "    .dataframe tbody tr th {\n",
       "        vertical-align: top;\n",
       "    }\n",
       "\n",
       "    .dataframe thead th {\n",
       "        text-align: right;\n",
       "    }\n",
       "</style>\n",
       "<table border=\"1\" class=\"dataframe\">\n",
       "  <thead>\n",
       "    <tr style=\"text-align: right;\">\n",
       "      <th></th>\n",
       "      <th>ACTION</th>\n",
       "      <th>RESOURCE</th>\n",
       "      <th>MGR_ID</th>\n",
       "      <th>ROLE_ROLLUP_1</th>\n",
       "      <th>ROLE_ROLLUP_2</th>\n",
       "      <th>ROLE_DEPTNAME</th>\n",
       "      <th>ROLE_TITLE</th>\n",
       "      <th>ROLE_FAMILY_DESC</th>\n",
       "      <th>ROLE_FAMILY</th>\n",
       "      <th>ROLE_CODE</th>\n",
       "    </tr>\n",
       "  </thead>\n",
       "  <tbody>\n",
       "    <tr>\n",
       "      <th>0</th>\n",
       "      <td>1</td>\n",
       "      <td>39353</td>\n",
       "      <td>85475</td>\n",
       "      <td>117961</td>\n",
       "      <td>118300</td>\n",
       "      <td>123472</td>\n",
       "      <td>117905</td>\n",
       "      <td>117906</td>\n",
       "      <td>290919</td>\n",
       "      <td>117908</td>\n",
       "    </tr>\n",
       "    <tr>\n",
       "      <th>1</th>\n",
       "      <td>1</td>\n",
       "      <td>17183</td>\n",
       "      <td>1540</td>\n",
       "      <td>117961</td>\n",
       "      <td>118343</td>\n",
       "      <td>123125</td>\n",
       "      <td>118536</td>\n",
       "      <td>118536</td>\n",
       "      <td>308574</td>\n",
       "      <td>118539</td>\n",
       "    </tr>\n",
       "    <tr>\n",
       "      <th>2</th>\n",
       "      <td>1</td>\n",
       "      <td>36724</td>\n",
       "      <td>14457</td>\n",
       "      <td>118219</td>\n",
       "      <td>118220</td>\n",
       "      <td>117884</td>\n",
       "      <td>117879</td>\n",
       "      <td>267952</td>\n",
       "      <td>19721</td>\n",
       "      <td>117880</td>\n",
       "    </tr>\n",
       "    <tr>\n",
       "      <th>3</th>\n",
       "      <td>1</td>\n",
       "      <td>36135</td>\n",
       "      <td>5396</td>\n",
       "      <td>117961</td>\n",
       "      <td>118343</td>\n",
       "      <td>119993</td>\n",
       "      <td>118321</td>\n",
       "      <td>240983</td>\n",
       "      <td>290919</td>\n",
       "      <td>118322</td>\n",
       "    </tr>\n",
       "    <tr>\n",
       "      <th>4</th>\n",
       "      <td>1</td>\n",
       "      <td>42680</td>\n",
       "      <td>5905</td>\n",
       "      <td>117929</td>\n",
       "      <td>117930</td>\n",
       "      <td>119569</td>\n",
       "      <td>119323</td>\n",
       "      <td>123932</td>\n",
       "      <td>19793</td>\n",
       "      <td>119325</td>\n",
       "    </tr>\n",
       "  </tbody>\n",
       "</table>\n",
       "</div>"
      ],
      "text/plain": [
       "   ACTION  RESOURCE  MGR_ID  ROLE_ROLLUP_1  ROLE_ROLLUP_2  ROLE_DEPTNAME  \\\n",
       "0       1     39353   85475         117961         118300         123472   \n",
       "1       1     17183    1540         117961         118343         123125   \n",
       "2       1     36724   14457         118219         118220         117884   \n",
       "3       1     36135    5396         117961         118343         119993   \n",
       "4       1     42680    5905         117929         117930         119569   \n",
       "\n",
       "   ROLE_TITLE  ROLE_FAMILY_DESC  ROLE_FAMILY  ROLE_CODE  \n",
       "0      117905            117906       290919     117908  \n",
       "1      118536            118536       308574     118539  \n",
       "2      117879            267952        19721     117880  \n",
       "3      118321            240983       290919     118322  \n",
       "4      119323            123932        19793     119325  "
      ]
     },
     "execution_count": 10,
     "metadata": {},
     "output_type": "execute_result"
    }
   ],
   "source": [
    "train.head()"
   ]
  },
  {
   "cell_type": "code",
   "execution_count": 11,
   "id": "af8c75dd",
   "metadata": {
    "execution": {
     "iopub.execute_input": "2021-10-02T12:35:44.466170Z",
     "iopub.status.busy": "2021-10-02T12:35:44.465524Z",
     "iopub.status.idle": "2021-10-02T12:35:44.686767Z",
     "shell.execute_reply": "2021-10-02T12:35:44.686159Z",
     "shell.execute_reply.started": "2021-10-02T12:25:39.966820Z"
    },
    "papermill": {
     "duration": 0.258241,
     "end_time": "2021-10-02T12:35:44.686931",
     "exception": false,
     "start_time": "2021-10-02T12:35:44.428690",
     "status": "completed"
    },
    "tags": []
   },
   "outputs": [],
   "source": [
    "from sklearn.model_selection import train_test_split\n",
    "X_train, X_test, y_train, y_test =  train_test_split(train_x, train_y)"
   ]
  },
  {
   "cell_type": "markdown",
   "id": "cda26bda",
   "metadata": {
    "papermill": {
     "duration": 0.032143,
     "end_time": "2021-10-02T12:35:44.752285",
     "exception": false,
     "start_time": "2021-10-02T12:35:44.720142",
     "status": "completed"
    },
    "tags": []
   },
   "source": [
    "We have our train and test data  \n",
    "Let's go ahead with models, DT and naive bayes to be applied first"
   ]
  },
  {
   "cell_type": "code",
   "execution_count": 12,
   "id": "bf10d036",
   "metadata": {
    "execution": {
     "iopub.execute_input": "2021-10-02T12:35:44.823183Z",
     "iopub.status.busy": "2021-10-02T12:35:44.822491Z",
     "iopub.status.idle": "2021-10-02T12:35:45.333115Z",
     "shell.execute_reply": "2021-10-02T12:35:45.334076Z",
     "shell.execute_reply.started": "2021-10-02T12:25:40.034466Z"
    },
    "papermill": {
     "duration": 0.549261,
     "end_time": "2021-10-02T12:35:45.334376",
     "exception": false,
     "start_time": "2021-10-02T12:35:44.785115",
     "status": "completed"
    },
    "tags": []
   },
   "outputs": [],
   "source": [
    "# Logistic Regression\n",
    "# Not suitable at all due to categorical variables\n",
    "\n",
    "from sklearn import linear_model as lm\n",
    "from sklearn.metrics import accuracy_score\n",
    "model = lm.LogisticRegression()\n",
    "model.fit(X_train, y_train)\n",
    "predictions = model.predict_proba(test_x)\n",
    "# model.score(X_test, y_test)\n",
    "# accuracy_score(predictions, y_test)\n",
    "\n",
    "# 0.50 accuracy"
   ]
  },
  {
   "cell_type": "code",
   "execution_count": 13,
   "id": "e78f94a9",
   "metadata": {
    "execution": {
     "iopub.execute_input": "2021-10-02T12:35:45.462017Z",
     "iopub.status.busy": "2021-10-02T12:35:45.461256Z",
     "iopub.status.idle": "2021-10-02T12:35:45.465443Z",
     "shell.execute_reply": "2021-10-02T12:35:45.465909Z",
     "shell.execute_reply.started": "2021-10-02T12:25:40.500593Z"
    },
    "papermill": {
     "duration": 0.07226,
     "end_time": "2021-10-02T12:35:45.466102",
     "exception": false,
     "start_time": "2021-10-02T12:35:45.393842",
     "status": "completed"
    },
    "tags": []
   },
   "outputs": [
    {
     "data": {
      "text/plain": [
       "(58921, 9)"
      ]
     },
     "execution_count": 13,
     "metadata": {},
     "output_type": "execute_result"
    }
   ],
   "source": [
    "test.drop(columns=['id']).shape"
   ]
  },
  {
   "cell_type": "code",
   "execution_count": 14,
   "id": "a9242e1c",
   "metadata": {
    "execution": {
     "iopub.execute_input": "2021-10-02T12:35:45.543638Z",
     "iopub.status.busy": "2021-10-02T12:35:45.542837Z",
     "iopub.status.idle": "2021-10-02T12:35:45.546735Z",
     "shell.execute_reply": "2021-10-02T12:35:45.546155Z",
     "shell.execute_reply.started": "2021-10-02T12:25:40.518087Z"
    },
    "papermill": {
     "duration": 0.048182,
     "end_time": "2021-10-02T12:35:45.546889",
     "exception": false,
     "start_time": "2021-10-02T12:35:45.498707",
     "status": "completed"
    },
    "tags": []
   },
   "outputs": [
    {
     "name": "stdout",
     "output_type": "stream",
     "text": [
      "(24576, 9), (8193, 9), (58921, 9)\n"
     ]
    }
   ],
   "source": [
    "print(f\"{X_train.shape}, {X_test.shape}, {test.drop(columns=['id']).shape}\")\n",
    "test_x = test.drop(columns=['id'])\n",
    "X_train.reset_index(drop=True, inplace=True)\n",
    "y_train.reset_index(drop=True, inplace=True)"
   ]
  },
  {
   "cell_type": "code",
   "execution_count": 15,
   "id": "50bc8be2",
   "metadata": {
    "execution": {
     "iopub.execute_input": "2021-10-02T12:35:45.619111Z",
     "iopub.status.busy": "2021-10-02T12:35:45.618446Z",
     "iopub.status.idle": "2021-10-02T12:35:45.625133Z",
     "shell.execute_reply": "2021-10-02T12:35:45.624467Z",
     "shell.execute_reply.started": "2021-10-02T12:25:40.536186Z"
    },
    "papermill": {
     "duration": 0.044537,
     "end_time": "2021-10-02T12:35:45.625287",
     "exception": false,
     "start_time": "2021-10-02T12:35:45.580750",
     "status": "completed"
    },
    "tags": []
   },
   "outputs": [],
   "source": [
    "# Naive Bayes doesn't work here due to an extra category in test_data\n",
    "\n",
    "from sklearn import naive_bayes\n",
    "model = naive_bayes.CategoricalNB()\n",
    "# clf = model.fit(X_train, y_train)\n",
    "# print(f'{clf.score(X_test,y_test)}')\n",
    "# predictions = clf.predict(test_x)"
   ]
  },
  {
   "cell_type": "code",
   "execution_count": 16,
   "id": "caaaca92",
   "metadata": {
    "execution": {
     "iopub.execute_input": "2021-10-02T12:35:45.697670Z",
     "iopub.status.busy": "2021-10-02T12:35:45.696794Z",
     "iopub.status.idle": "2021-10-02T12:35:45.959082Z",
     "shell.execute_reply": "2021-10-02T12:35:45.959557Z",
     "shell.execute_reply.started": "2021-09-26T16:29:33.743905Z"
    },
    "papermill": {
     "duration": 0.301386,
     "end_time": "2021-10-02T12:35:45.959741",
     "exception": false,
     "start_time": "2021-10-02T12:35:45.658355",
     "status": "completed"
    },
    "tags": []
   },
   "outputs": [
    {
     "name": "stdout",
     "output_type": "stream",
     "text": [
      "0.9295740266080801\n"
     ]
    }
   ],
   "source": [
    "# Decision Tree\n",
    "from sklearn import tree\n",
    "from sklearn.tree import DecisionTreeClassifier\n",
    "model = DecisionTreeClassifier(max_depth=30)\n",
    "clf = model.fit(X_train, y_train)\n",
    "print(f'{clf.score(X_test,y_test)}')\n",
    "predictions = clf.predict(test_x)\n",
    "\n",
    "# 0.679 Score on test dataset"
   ]
  },
  {
   "cell_type": "code",
   "execution_count": 17,
   "id": "904a63cd",
   "metadata": {
    "execution": {
     "iopub.execute_input": "2021-10-02T12:35:46.031916Z",
     "iopub.status.busy": "2021-10-02T12:35:46.031109Z",
     "iopub.status.idle": "2021-10-02T12:36:01.230492Z",
     "shell.execute_reply": "2021-10-02T12:36:01.229252Z",
     "shell.execute_reply.started": "2021-10-02T12:33:23.001186Z"
    },
    "papermill": {
     "duration": 15.238095,
     "end_time": "2021-10-02T12:36:01.230671",
     "exception": false,
     "start_time": "2021-10-02T12:35:45.992576",
     "status": "completed"
    },
    "tags": []
   },
   "outputs": [
    {
     "name": "stdout",
     "output_type": "stream",
     "text": [
      "0.946783839863298\n"
     ]
    }
   ],
   "source": [
    "# Random Forest\n",
    "from sklearn.ensemble import RandomForestClassifier\n",
    "model = RandomForestClassifier(n_estimators = 300)\n",
    "clf = model.fit(X_train, y_train)\n",
    "print(f'{clf.score(X_test, y_test)}')\n",
    "predictions = clf.predict_proba(test_x)\n",
    "\n",
    "## Score: 0.67333 on Binary Classification \n",
    "## Score: 0.85201 on Probabilitistic outputs"
   ]
  },
  {
   "cell_type": "markdown",
   "id": "1bd20620",
   "metadata": {
    "papermill": {
     "duration": 0.033507,
     "end_time": "2021-10-02T12:36:01.298190",
     "exception": false,
     "start_time": "2021-10-02T12:36:01.264683",
     "status": "completed"
    },
    "tags": []
   },
   "source": [
    "# Catboost implementation"
   ]
  },
  {
   "cell_type": "markdown",
   "id": "23ffaa06",
   "metadata": {
    "papermill": {
     "duration": 0.032769,
     "end_time": "2021-10-02T12:36:01.364129",
     "exception": false,
     "start_time": "2021-10-02T12:36:01.331360",
     "status": "completed"
    },
    "tags": []
   },
   "source": [
    "Catboost is a boosting algorithm. It is better than lightGBM, XGBoost on various tasks or at least on par with them. It's particularly useful here because of it's ability to work with categorical data.  \n",
    "\n",
    "Catboost tutorial [link](https://github.com/catboost/tutorials/blob/master/classification/classification_tutorial.ipynb)"
   ]
  },
  {
   "cell_type": "code",
   "execution_count": 18,
   "id": "19ec56b8",
   "metadata": {
    "execution": {
     "iopub.execute_input": "2021-10-02T12:36:01.436083Z",
     "iopub.status.busy": "2021-10-02T12:36:01.435341Z",
     "iopub.status.idle": "2021-10-02T12:36:01.441088Z",
     "shell.execute_reply": "2021-10-02T12:36:01.440354Z",
     "shell.execute_reply.started": "2021-09-26T16:29:34.009563Z"
    },
    "papermill": {
     "duration": 0.043677,
     "end_time": "2021-10-02T12:36:01.441237",
     "exception": false,
     "start_time": "2021-10-02T12:36:01.397560",
     "status": "completed"
    },
    "tags": []
   },
   "outputs": [
    {
     "data": {
      "text/plain": [
       "['__notebook__.ipynb', 'amazon']"
      ]
     },
     "execution_count": 18,
     "metadata": {},
     "output_type": "execute_result"
    }
   ],
   "source": [
    "os.chdir('/kaggle/working')\n",
    "os.makedirs('/kaggle/working/amazon')\n",
    "os.listdir('.')"
   ]
  },
  {
   "cell_type": "code",
   "execution_count": 19,
   "id": "3c51b374",
   "metadata": {
    "execution": {
     "iopub.execute_input": "2021-10-02T12:36:01.520277Z",
     "iopub.status.busy": "2021-10-02T12:36:01.519550Z",
     "iopub.status.idle": "2021-10-02T12:36:01.525304Z",
     "shell.execute_reply": "2021-10-02T12:36:01.524725Z",
     "shell.execute_reply.started": "2021-09-26T16:29:34.021147Z"
    },
    "papermill": {
     "duration": 0.050424,
     "end_time": "2021-10-02T12:36:01.525512",
     "exception": false,
     "start_time": "2021-10-02T12:36:01.475088",
     "status": "completed"
    },
    "tags": []
   },
   "outputs": [],
   "source": [
    "from catboost.utils import create_cd\n",
    "feature_names = dict()\n",
    "for column, name in enumerate(train):\n",
    "    if column == 0:\n",
    "        continue\n",
    "    feature_names[column - 1] = name\n",
    "dataset_dir = './amazon'   \n",
    "create_cd(\n",
    "    label=0, \n",
    "    cat_features=list(range(1, train.columns.shape[0])),\n",
    "    feature_names=feature_names,\n",
    "    output_path=os.path.join(dataset_dir, 'train.cd')\n",
    ")"
   ]
  },
  {
   "cell_type": "code",
   "execution_count": 20,
   "id": "eb8fcf94",
   "metadata": {
    "execution": {
     "iopub.execute_input": "2021-10-02T12:36:01.602291Z",
     "iopub.status.busy": "2021-10-02T12:36:01.601609Z",
     "iopub.status.idle": "2021-10-02T12:36:01.604975Z",
     "shell.execute_reply": "2021-10-02T12:36:01.604434Z",
     "shell.execute_reply.started": "2021-09-26T16:29:34.035985Z"
    },
    "papermill": {
     "duration": 0.045372,
     "end_time": "2021-10-02T12:36:01.605122",
     "exception": false,
     "start_time": "2021-10-02T12:36:01.559750",
     "status": "completed"
    },
    "tags": []
   },
   "outputs": [
    {
     "name": "stdout",
     "output_type": "stream",
     "text": [
      "[0, 1, 2, 3, 4, 5, 6, 7, 8]\n"
     ]
    }
   ],
   "source": [
    "X = train.drop(columns=['ACTION'])\n",
    "y = train.ACTION\n",
    "cat_features = list(range(0, X.shape[1]))\n",
    "print(cat_features)"
   ]
  },
  {
   "cell_type": "code",
   "execution_count": 21,
   "id": "1561e8c0",
   "metadata": {
    "execution": {
     "iopub.execute_input": "2021-10-02T12:36:01.827193Z",
     "iopub.status.busy": "2021-10-02T12:36:01.763352Z",
     "iopub.status.idle": "2021-10-02T12:36:02.536639Z",
     "shell.execute_reply": "2021-10-02T12:36:02.536046Z",
     "shell.execute_reply.started": "2021-09-26T16:29:34.047327Z"
    },
    "papermill": {
     "duration": 0.897701,
     "end_time": "2021-10-02T12:36:02.536836",
     "exception": false,
     "start_time": "2021-10-02T12:36:01.639135",
     "status": "completed"
    },
    "tags": []
   },
   "outputs": [
    {
     "name": "stdout",
     "output_type": "stream",
     "text": [
      "Dataset shape\n",
      "dataset 1:(32769, 9)\n",
      "dataset 2:(32769, 9)\n",
      "dataset 3:(32769, 9)\n",
      "dataset 4: (32769, 9)\n",
      "\n",
      "\n",
      "Column names\n",
      "dataset 1:\n",
      "['RESOURCE', 'MGR_ID', 'ROLE_ROLLUP_1', 'ROLE_ROLLUP_2', 'ROLE_DEPTNAME', 'ROLE_TITLE', 'ROLE_FAMILY_DESC', 'ROLE_FAMILY', 'ROLE_CODE']\n",
      "\n",
      "dataset 2:\n",
      "['RESOURCE', 'MGR_ID', 'ROLE_ROLLUP_1', 'ROLE_ROLLUP_2', 'ROLE_DEPTNAME', 'ROLE_TITLE', 'ROLE_FAMILY_DESC', 'ROLE_FAMILY', 'ROLE_CODE']\n",
      "\n",
      "dataset 3:\n",
      "['RESOURCE', 'MGR_ID', 'ROLE_ROLLUP_1', 'ROLE_ROLLUP_2', 'ROLE_DEPTNAME', 'ROLE_TITLE', 'ROLE_FAMILY_DESC', 'ROLE_FAMILY', 'ROLE_CODE']\n",
      "\n",
      "dataset 4:\n",
      "['RESOURCE', 'MGR_ID', 'ROLE_ROLLUP_1', 'ROLE_ROLLUP_2', 'ROLE_DEPTNAME', 'ROLE_TITLE', 'ROLE_FAMILY_DESC', 'ROLE_FAMILY', 'ROLE_CODE']\n"
     ]
    }
   ],
   "source": [
    "pool1 = Pool(data=X, label=y, cat_features=cat_features)\n",
    "pool2 = Pool(\n",
    "    data=os.path.join('/kaggle/input/amazon-employee-access-challenge/', 'train.csv'), \n",
    "    delimiter=',', \n",
    "    column_description=os.path.join(dataset_dir, 'train.cd'),\n",
    "    has_header=True\n",
    ")\n",
    "pool3 = Pool(data=X, cat_features=cat_features)\n",
    "\n",
    "# Fastest way to create a Pool is to create it from numpy matrix.\n",
    "# This way should be used if you want fast predictions\n",
    "# or fastest way to load the data in python.\n",
    "\n",
    "X_prepared = X.values.astype(str).astype(object)\n",
    "# For FeaturesData class categorial features must have type str\n",
    "\n",
    "pool4 = Pool(\n",
    "    data=FeaturesData(\n",
    "        cat_feature_data=X_prepared,\n",
    "        cat_feature_names=list(X)\n",
    "    ),\n",
    "    label=y.values\n",
    ")\n",
    "\n",
    "print('Dataset shape')\n",
    "print('dataset 1:' + str(pool1.shape) +\n",
    "      '\\ndataset 2:' + str(pool2.shape) + \n",
    "      '\\ndataset 3:' + str(pool3.shape) +\n",
    "      '\\ndataset 4: ' + str(pool4.shape))\n",
    "\n",
    "print('\\n')\n",
    "print('Column names')\n",
    "print('dataset 1:')\n",
    "print(pool1.get_feature_names()) \n",
    "print('\\ndataset 2:')\n",
    "print(pool2.get_feature_names())\n",
    "print('\\ndataset 3:')\n",
    "print(pool3.get_feature_names())\n",
    "print('\\ndataset 4:')\n",
    "print(pool4.get_feature_names())"
   ]
  },
  {
   "cell_type": "code",
   "execution_count": 22,
   "id": "1ca70527",
   "metadata": {
    "execution": {
     "iopub.execute_input": "2021-10-02T12:36:02.613306Z",
     "iopub.status.busy": "2021-10-02T12:36:02.612646Z",
     "iopub.status.idle": "2021-10-02T12:36:02.622283Z",
     "shell.execute_reply": "2021-10-02T12:36:02.622973Z",
     "shell.execute_reply.started": "2021-09-26T16:29:34.840043Z"
    },
    "papermill": {
     "duration": 0.051744,
     "end_time": "2021-10-02T12:36:02.623177",
     "exception": false,
     "start_time": "2021-10-02T12:36:02.571433",
     "status": "completed"
    },
    "tags": []
   },
   "outputs": [],
   "source": [
    "# train, test split\n",
    "\n",
    "from sklearn.model_selection import train_test_split\n",
    "X_train, X_validation, y_train, y_validation = train_test_split(X, y, train_size=0.7, random_state=1234)"
   ]
  },
  {
   "cell_type": "code",
   "execution_count": 23,
   "id": "bd86a34a",
   "metadata": {
    "execution": {
     "iopub.execute_input": "2021-10-02T12:36:02.696037Z",
     "iopub.status.busy": "2021-10-02T12:36:02.695286Z",
     "iopub.status.idle": "2021-10-02T12:38:05.294073Z",
     "shell.execute_reply": "2021-10-02T12:38:05.293377Z",
     "shell.execute_reply.started": "2021-09-26T16:30:34.572295Z"
    },
    "papermill": {
     "duration": 122.636108,
     "end_time": "2021-10-02T12:38:05.294262",
     "exception": false,
     "start_time": "2021-10-02T12:36:02.658154",
     "status": "completed"
    },
    "tags": []
   },
   "outputs": [
    {
     "name": "stdout",
     "output_type": "stream",
     "text": [
      "0:\tlearn: 0.6567130\ttest: 0.6569737\tbest: 0.6569737 (0)\ttotal: 85.4ms\tremaining: 4m 16s\n",
      "50:\tlearn: 0.1955653\ttest: 0.1924965\tbest: 0.1924965 (50)\ttotal: 1.16s\tremaining: 1m 7s\n",
      "100:\tlearn: 0.1680697\ttest: 0.1601793\tbest: 0.1601793 (100)\ttotal: 2.61s\tremaining: 1m 14s\n",
      "150:\tlearn: 0.1591957\ttest: 0.1506885\tbest: 0.1506885 (150)\ttotal: 4.53s\tremaining: 1m 25s\n",
      "200:\tlearn: 0.1556073\ttest: 0.1485285\tbest: 0.1485285 (200)\ttotal: 6.57s\tremaining: 1m 31s\n",
      "250:\tlearn: 0.1533884\ttest: 0.1474244\tbest: 0.1474244 (250)\ttotal: 8.51s\tremaining: 1m 33s\n",
      "300:\tlearn: 0.1514099\ttest: 0.1467703\tbest: 0.1467703 (300)\ttotal: 10.5s\tremaining: 1m 34s\n",
      "350:\tlearn: 0.1492707\ttest: 0.1463819\tbest: 0.1463819 (350)\ttotal: 12.5s\tremaining: 1m 34s\n",
      "400:\tlearn: 0.1474756\ttest: 0.1456258\tbest: 0.1456258 (400)\ttotal: 14.6s\tremaining: 1m 34s\n",
      "450:\tlearn: 0.1459808\ttest: 0.1453963\tbest: 0.1453963 (450)\ttotal: 16.8s\tremaining: 1m 34s\n",
      "500:\tlearn: 0.1445501\ttest: 0.1450454\tbest: 0.1450454 (500)\ttotal: 18.8s\tremaining: 1m 33s\n",
      "550:\tlearn: 0.1433100\ttest: 0.1449266\tbest: 0.1449086 (543)\ttotal: 20.8s\tremaining: 1m 32s\n",
      "600:\tlearn: 0.1420534\ttest: 0.1447845\tbest: 0.1447654 (594)\ttotal: 22.9s\tremaining: 1m 31s\n",
      "650:\tlearn: 0.1407937\ttest: 0.1448401\tbest: 0.1447605 (604)\ttotal: 25s\tremaining: 1m 30s\n",
      "700:\tlearn: 0.1394405\ttest: 0.1446763\tbest: 0.1446697 (694)\ttotal: 27.3s\tremaining: 1m 29s\n",
      "750:\tlearn: 0.1381760\ttest: 0.1446251\tbest: 0.1446170 (719)\ttotal: 29.3s\tremaining: 1m 27s\n",
      "800:\tlearn: 0.1367799\ttest: 0.1443840\tbest: 0.1443840 (800)\ttotal: 31.4s\tremaining: 1m 26s\n",
      "850:\tlearn: 0.1355148\ttest: 0.1442449\tbest: 0.1442231 (841)\ttotal: 33.5s\tremaining: 1m 24s\n",
      "900:\tlearn: 0.1340358\ttest: 0.1440933\tbest: 0.1440933 (900)\ttotal: 35.5s\tremaining: 1m 22s\n",
      "950:\tlearn: 0.1327986\ttest: 0.1439913\tbest: 0.1439913 (950)\ttotal: 37.6s\tremaining: 1m 20s\n",
      "1000:\tlearn: 0.1313506\ttest: 0.1437970\tbest: 0.1437970 (1000)\ttotal: 39.6s\tremaining: 1m 19s\n",
      "1050:\tlearn: 0.1301952\ttest: 0.1436176\tbest: 0.1436176 (1050)\ttotal: 41.6s\tremaining: 1m 17s\n",
      "1100:\tlearn: 0.1288938\ttest: 0.1435877\tbest: 0.1435826 (1084)\ttotal: 43.6s\tremaining: 1m 15s\n",
      "1150:\tlearn: 0.1276952\ttest: 0.1435540\tbest: 0.1434728 (1132)\ttotal: 45.7s\tremaining: 1m 13s\n",
      "1200:\tlearn: 0.1265717\ttest: 0.1435649\tbest: 0.1434728 (1132)\ttotal: 47.8s\tremaining: 1m 11s\n",
      "1250:\tlearn: 0.1254045\ttest: 0.1436410\tbest: 0.1434728 (1132)\ttotal: 50s\tremaining: 1m 9s\n",
      "1300:\tlearn: 0.1243271\ttest: 0.1438220\tbest: 0.1434728 (1132)\ttotal: 52s\tremaining: 1m 7s\n",
      "1350:\tlearn: 0.1232217\ttest: 0.1436169\tbest: 0.1434728 (1132)\ttotal: 53.9s\tremaining: 1m 5s\n",
      "1400:\tlearn: 0.1220728\ttest: 0.1435958\tbest: 0.1434728 (1132)\ttotal: 55.9s\tremaining: 1m 3s\n",
      "1450:\tlearn: 0.1209566\ttest: 0.1435754\tbest: 0.1434728 (1132)\ttotal: 58s\tremaining: 1m 1s\n",
      "1500:\tlearn: 0.1198976\ttest: 0.1435301\tbest: 0.1434728 (1132)\ttotal: 1m\tremaining: 1m\n",
      "1550:\tlearn: 0.1188399\ttest: 0.1436842\tbest: 0.1434728 (1132)\ttotal: 1m 2s\tremaining: 58.3s\n",
      "1600:\tlearn: 0.1178785\ttest: 0.1436195\tbest: 0.1434728 (1132)\ttotal: 1m 4s\tremaining: 56.3s\n",
      "1650:\tlearn: 0.1169545\ttest: 0.1437381\tbest: 0.1434728 (1132)\ttotal: 1m 6s\tremaining: 54.2s\n",
      "1700:\tlearn: 0.1161650\ttest: 0.1437543\tbest: 0.1434728 (1132)\ttotal: 1m 8s\tremaining: 52.1s\n",
      "1750:\tlearn: 0.1152865\ttest: 0.1438377\tbest: 0.1434728 (1132)\ttotal: 1m 10s\tremaining: 50.1s\n",
      "1800:\tlearn: 0.1141085\ttest: 0.1439186\tbest: 0.1434728 (1132)\ttotal: 1m 12s\tremaining: 48.1s\n",
      "1850:\tlearn: 0.1131460\ttest: 0.1440042\tbest: 0.1434728 (1132)\ttotal: 1m 14s\tremaining: 46.1s\n",
      "1900:\tlearn: 0.1124411\ttest: 0.1438985\tbest: 0.1434728 (1132)\ttotal: 1m 16s\tremaining: 44s\n",
      "1950:\tlearn: 0.1115017\ttest: 0.1438964\tbest: 0.1434728 (1132)\ttotal: 1m 18s\tremaining: 42s\n",
      "2000:\tlearn: 0.1104362\ttest: 0.1438824\tbest: 0.1434728 (1132)\ttotal: 1m 20s\tremaining: 40.1s\n",
      "2050:\tlearn: 0.1094441\ttest: 0.1439102\tbest: 0.1434728 (1132)\ttotal: 1m 22s\tremaining: 38.2s\n",
      "2100:\tlearn: 0.1084181\ttest: 0.1439292\tbest: 0.1434728 (1132)\ttotal: 1m 24s\tremaining: 36.2s\n",
      "2150:\tlearn: 0.1076796\ttest: 0.1439147\tbest: 0.1434728 (1132)\ttotal: 1m 26s\tremaining: 34.2s\n",
      "2200:\tlearn: 0.1068549\ttest: 0.1439105\tbest: 0.1434728 (1132)\ttotal: 1m 28s\tremaining: 32.2s\n",
      "2250:\tlearn: 0.1061710\ttest: 0.1439540\tbest: 0.1434728 (1132)\ttotal: 1m 30s\tremaining: 30.1s\n",
      "2300:\tlearn: 0.1053390\ttest: 0.1439355\tbest: 0.1434728 (1132)\ttotal: 1m 33s\tremaining: 28.3s\n",
      "2350:\tlearn: 0.1045279\ttest: 0.1441033\tbest: 0.1434728 (1132)\ttotal: 1m 35s\tremaining: 26.3s\n",
      "2400:\tlearn: 0.1037072\ttest: 0.1441752\tbest: 0.1434728 (1132)\ttotal: 1m 37s\tremaining: 24.3s\n",
      "2450:\tlearn: 0.1029731\ttest: 0.1441486\tbest: 0.1434728 (1132)\ttotal: 1m 39s\tremaining: 22.3s\n",
      "2500:\tlearn: 0.1022487\ttest: 0.1443544\tbest: 0.1434728 (1132)\ttotal: 1m 41s\tremaining: 20.2s\n",
      "2550:\tlearn: 0.1015322\ttest: 0.1444400\tbest: 0.1434728 (1132)\ttotal: 1m 43s\tremaining: 18.2s\n",
      "2600:\tlearn: 0.1007831\ttest: 0.1444831\tbest: 0.1434728 (1132)\ttotal: 1m 45s\tremaining: 16.2s\n",
      "2650:\tlearn: 0.0999860\ttest: 0.1445397\tbest: 0.1434728 (1132)\ttotal: 1m 47s\tremaining: 14.2s\n",
      "2700:\tlearn: 0.0992997\ttest: 0.1446626\tbest: 0.1434728 (1132)\ttotal: 1m 49s\tremaining: 12.1s\n",
      "2750:\tlearn: 0.0984569\ttest: 0.1446728\tbest: 0.1434728 (1132)\ttotal: 1m 51s\tremaining: 10.1s\n",
      "2800:\tlearn: 0.0976791\ttest: 0.1448521\tbest: 0.1434728 (1132)\ttotal: 1m 53s\tremaining: 8.07s\n",
      "2850:\tlearn: 0.0968546\ttest: 0.1448335\tbest: 0.1434728 (1132)\ttotal: 1m 55s\tremaining: 6.04s\n",
      "2900:\tlearn: 0.0961700\ttest: 0.1449818\tbest: 0.1434728 (1132)\ttotal: 1m 57s\tremaining: 4.02s\n",
      "2950:\tlearn: 0.0952952\ttest: 0.1451610\tbest: 0.1434728 (1132)\ttotal: 1m 59s\tremaining: 1.99s\n",
      "2999:\tlearn: 0.0945731\ttest: 0.1453784\tbest: 0.1434728 (1132)\ttotal: 2m 1s\tremaining: 0us\n",
      "\n",
      "bestTest = 0.1434728411\n",
      "bestIteration = 1132\n",
      "\n",
      "Shrink model to first 1133 iterations.\n"
     ]
    },
    {
     "data": {
      "text/plain": [
       "<catboost.core.CatBoostClassifier at 0x7fa93abe9b90>"
      ]
     },
     "execution_count": 23,
     "metadata": {},
     "output_type": "execute_result"
    }
   ],
   "source": [
    "from catboost import CatBoostClassifier\n",
    "model = CatBoostClassifier(\n",
    "    iterations=3000,\n",
    "    random_seed=1,\n",
    "    learning_rate=0.03,\n",
    "    loss_function = 'CrossEntropy'\n",
    "#     custom_loss=['AUC', 'Accuracy']\n",
    ")\n",
    "model.fit(\n",
    "    X_train, y_train,\n",
    "    cat_features=cat_features,\n",
    "    eval_set=(X_validation, y_validation),\n",
    "    verbose=50,\n",
    "#     plot=True\n",
    ")"
   ]
  },
  {
   "cell_type": "code",
   "execution_count": 24,
   "id": "429229f4",
   "metadata": {
    "execution": {
     "iopub.execute_input": "2021-10-02T12:38:05.407914Z",
     "iopub.status.busy": "2021-10-02T12:38:05.407232Z",
     "iopub.status.idle": "2021-10-02T12:38:05.431296Z",
     "shell.execute_reply": "2021-10-02T12:38:05.430758Z",
     "shell.execute_reply.started": "2021-09-26T10:59:36.760303Z"
    },
    "papermill": {
     "duration": 0.081821,
     "end_time": "2021-10-02T12:38:05.431460",
     "exception": false,
     "start_time": "2021-10-02T12:38:05.349639",
     "status": "completed"
    },
    "tags": []
   },
   "outputs": [
    {
     "data": {
      "text/html": [
       "<div>\n",
       "<style scoped>\n",
       "    .dataframe tbody tr th:only-of-type {\n",
       "        vertical-align: middle;\n",
       "    }\n",
       "\n",
       "    .dataframe tbody tr th {\n",
       "        vertical-align: top;\n",
       "    }\n",
       "\n",
       "    .dataframe thead th {\n",
       "        text-align: right;\n",
       "    }\n",
       "</style>\n",
       "<table border=\"1\" class=\"dataframe\">\n",
       "  <thead>\n",
       "    <tr style=\"text-align: right;\">\n",
       "      <th></th>\n",
       "      <th>Feature Id</th>\n",
       "      <th>Importances</th>\n",
       "    </tr>\n",
       "  </thead>\n",
       "  <tbody>\n",
       "    <tr>\n",
       "      <th>0</th>\n",
       "      <td>RESOURCE</td>\n",
       "      <td>19.985637</td>\n",
       "    </tr>\n",
       "    <tr>\n",
       "      <th>1</th>\n",
       "      <td>ROLE_DEPTNAME</td>\n",
       "      <td>16.758267</td>\n",
       "    </tr>\n",
       "    <tr>\n",
       "      <th>2</th>\n",
       "      <td>MGR_ID</td>\n",
       "      <td>15.171623</td>\n",
       "    </tr>\n",
       "    <tr>\n",
       "      <th>3</th>\n",
       "      <td>ROLE_ROLLUP_2</td>\n",
       "      <td>13.523222</td>\n",
       "    </tr>\n",
       "    <tr>\n",
       "      <th>4</th>\n",
       "      <td>ROLE_CODE</td>\n",
       "      <td>9.570468</td>\n",
       "    </tr>\n",
       "    <tr>\n",
       "      <th>5</th>\n",
       "      <td>ROLE_FAMILY_DESC</td>\n",
       "      <td>9.026664</td>\n",
       "    </tr>\n",
       "    <tr>\n",
       "      <th>6</th>\n",
       "      <td>ROLE_TITLE</td>\n",
       "      <td>5.562219</td>\n",
       "    </tr>\n",
       "    <tr>\n",
       "      <th>7</th>\n",
       "      <td>ROLE_ROLLUP_1</td>\n",
       "      <td>5.368687</td>\n",
       "    </tr>\n",
       "    <tr>\n",
       "      <th>8</th>\n",
       "      <td>ROLE_FAMILY</td>\n",
       "      <td>5.033214</td>\n",
       "    </tr>\n",
       "  </tbody>\n",
       "</table>\n",
       "</div>"
      ],
      "text/plain": [
       "         Feature Id  Importances\n",
       "0          RESOURCE    19.985637\n",
       "1     ROLE_DEPTNAME    16.758267\n",
       "2            MGR_ID    15.171623\n",
       "3     ROLE_ROLLUP_2    13.523222\n",
       "4         ROLE_CODE     9.570468\n",
       "5  ROLE_FAMILY_DESC     9.026664\n",
       "6        ROLE_TITLE     5.562219\n",
       "7     ROLE_ROLLUP_1     5.368687\n",
       "8       ROLE_FAMILY     5.033214"
      ]
     },
     "execution_count": 24,
     "metadata": {},
     "output_type": "execute_result"
    }
   ],
   "source": [
    "model.get_feature_importance(prettified=True)"
   ]
  },
  {
   "cell_type": "code",
   "execution_count": 25,
   "id": "a59ec516",
   "metadata": {
    "execution": {
     "iopub.execute_input": "2021-10-02T12:38:05.680608Z",
     "iopub.status.busy": "2021-10-02T12:38:05.607070Z",
     "iopub.status.idle": "2021-10-02T12:38:19.096537Z",
     "shell.execute_reply": "2021-10-02T12:38:19.097105Z",
     "shell.execute_reply.started": "2021-09-26T10:59:38.874345Z"
    },
    "papermill": {
     "duration": 13.612618,
     "end_time": "2021-10-02T12:38:19.097360",
     "exception": false,
     "start_time": "2021-10-02T12:38:05.484742",
     "status": "completed"
    },
    "tags": []
   },
   "outputs": [],
   "source": [
    "# Cross Validation\n",
    "from catboost import cv\n",
    "\n",
    "params = {}\n",
    "params['loss_function'] = 'Logloss'\n",
    "params['iterations'] = 93\n",
    "params['custom_loss'] = 'AUC'\n",
    "params['random_seed'] = 63\n",
    "params['learning_rate'] = 0.5\n",
    "\n",
    "cv_data = cv(\n",
    "    params = params,\n",
    "    pool = Pool(X, label=y, cat_features=cat_features),\n",
    "    fold_count=5,\n",
    "    shuffle=True,\n",
    "    partition_random_seed=0,\n",
    "#     plot=True,\n",
    "    stratified=False,\n",
    "    verbose=False\n",
    ")"
   ]
  },
  {
   "cell_type": "code",
   "execution_count": 26,
   "id": "c78ebef5",
   "metadata": {
    "execution": {
     "iopub.execute_input": "2021-10-02T12:38:19.226314Z",
     "iopub.status.busy": "2021-10-02T12:38:19.217653Z",
     "iopub.status.idle": "2021-10-02T12:38:19.229856Z",
     "shell.execute_reply": "2021-10-02T12:38:19.229320Z",
     "shell.execute_reply.started": "2021-09-26T10:59:51.806232Z"
    },
    "papermill": {
     "duration": 0.078664,
     "end_time": "2021-10-02T12:38:19.230009",
     "exception": false,
     "start_time": "2021-10-02T12:38:19.151345",
     "status": "completed"
    },
    "tags": []
   },
   "outputs": [
    {
     "data": {
      "text/html": [
       "<div>\n",
       "<style scoped>\n",
       "    .dataframe tbody tr th:only-of-type {\n",
       "        vertical-align: middle;\n",
       "    }\n",
       "\n",
       "    .dataframe tbody tr th {\n",
       "        vertical-align: top;\n",
       "    }\n",
       "\n",
       "    .dataframe thead th {\n",
       "        text-align: right;\n",
       "    }\n",
       "</style>\n",
       "<table border=\"1\" class=\"dataframe\">\n",
       "  <thead>\n",
       "    <tr style=\"text-align: right;\">\n",
       "      <th></th>\n",
       "      <th>iterations</th>\n",
       "      <th>test-Logloss-mean</th>\n",
       "      <th>test-Logloss-std</th>\n",
       "      <th>train-Logloss-mean</th>\n",
       "      <th>train-Logloss-std</th>\n",
       "      <th>test-AUC-mean</th>\n",
       "      <th>test-AUC-std</th>\n",
       "    </tr>\n",
       "  </thead>\n",
       "  <tbody>\n",
       "    <tr>\n",
       "      <th>0</th>\n",
       "      <td>0</td>\n",
       "      <td>0.302656</td>\n",
       "      <td>0.003539</td>\n",
       "      <td>0.302803</td>\n",
       "      <td>0.003277</td>\n",
       "      <td>0.527207</td>\n",
       "      <td>0.024999</td>\n",
       "    </tr>\n",
       "    <tr>\n",
       "      <th>1</th>\n",
       "      <td>1</td>\n",
       "      <td>0.229539</td>\n",
       "      <td>0.010203</td>\n",
       "      <td>0.230381</td>\n",
       "      <td>0.003876</td>\n",
       "      <td>0.623304</td>\n",
       "      <td>0.052296</td>\n",
       "    </tr>\n",
       "    <tr>\n",
       "      <th>2</th>\n",
       "      <td>2</td>\n",
       "      <td>0.192070</td>\n",
       "      <td>0.007484</td>\n",
       "      <td>0.197596</td>\n",
       "      <td>0.002449</td>\n",
       "      <td>0.785451</td>\n",
       "      <td>0.022382</td>\n",
       "    </tr>\n",
       "    <tr>\n",
       "      <th>3</th>\n",
       "      <td>3</td>\n",
       "      <td>0.179042</td>\n",
       "      <td>0.008345</td>\n",
       "      <td>0.187064</td>\n",
       "      <td>0.001322</td>\n",
       "      <td>0.812158</td>\n",
       "      <td>0.009366</td>\n",
       "    </tr>\n",
       "    <tr>\n",
       "      <th>4</th>\n",
       "      <td>4</td>\n",
       "      <td>0.172556</td>\n",
       "      <td>0.007465</td>\n",
       "      <td>0.181942</td>\n",
       "      <td>0.001980</td>\n",
       "      <td>0.827724</td>\n",
       "      <td>0.008529</td>\n",
       "    </tr>\n",
       "    <tr>\n",
       "      <th>...</th>\n",
       "      <td>...</td>\n",
       "      <td>...</td>\n",
       "      <td>...</td>\n",
       "      <td>...</td>\n",
       "      <td>...</td>\n",
       "      <td>...</td>\n",
       "      <td>...</td>\n",
       "    </tr>\n",
       "    <tr>\n",
       "      <th>88</th>\n",
       "      <td>88</td>\n",
       "      <td>0.159019</td>\n",
       "      <td>0.009416</td>\n",
       "      <td>0.140851</td>\n",
       "      <td>0.002518</td>\n",
       "      <td>0.855637</td>\n",
       "      <td>0.007536</td>\n",
       "    </tr>\n",
       "    <tr>\n",
       "      <th>89</th>\n",
       "      <td>89</td>\n",
       "      <td>0.159240</td>\n",
       "      <td>0.009520</td>\n",
       "      <td>0.140555</td>\n",
       "      <td>0.002512</td>\n",
       "      <td>0.855040</td>\n",
       "      <td>0.007574</td>\n",
       "    </tr>\n",
       "    <tr>\n",
       "      <th>90</th>\n",
       "      <td>90</td>\n",
       "      <td>0.159546</td>\n",
       "      <td>0.009378</td>\n",
       "      <td>0.140163</td>\n",
       "      <td>0.002543</td>\n",
       "      <td>0.854600</td>\n",
       "      <td>0.007792</td>\n",
       "    </tr>\n",
       "    <tr>\n",
       "      <th>91</th>\n",
       "      <td>91</td>\n",
       "      <td>0.159348</td>\n",
       "      <td>0.009303</td>\n",
       "      <td>0.139709</td>\n",
       "      <td>0.002528</td>\n",
       "      <td>0.855070</td>\n",
       "      <td>0.007626</td>\n",
       "    </tr>\n",
       "    <tr>\n",
       "      <th>92</th>\n",
       "      <td>92</td>\n",
       "      <td>0.159366</td>\n",
       "      <td>0.009152</td>\n",
       "      <td>0.139475</td>\n",
       "      <td>0.002439</td>\n",
       "      <td>0.854859</td>\n",
       "      <td>0.007425</td>\n",
       "    </tr>\n",
       "  </tbody>\n",
       "</table>\n",
       "<p>93 rows × 7 columns</p>\n",
       "</div>"
      ],
      "text/plain": [
       "    iterations  test-Logloss-mean  test-Logloss-std  train-Logloss-mean  \\\n",
       "0            0           0.302656          0.003539            0.302803   \n",
       "1            1           0.229539          0.010203            0.230381   \n",
       "2            2           0.192070          0.007484            0.197596   \n",
       "3            3           0.179042          0.008345            0.187064   \n",
       "4            4           0.172556          0.007465            0.181942   \n",
       "..         ...                ...               ...                 ...   \n",
       "88          88           0.159019          0.009416            0.140851   \n",
       "89          89           0.159240          0.009520            0.140555   \n",
       "90          90           0.159546          0.009378            0.140163   \n",
       "91          91           0.159348          0.009303            0.139709   \n",
       "92          92           0.159366          0.009152            0.139475   \n",
       "\n",
       "    train-Logloss-std  test-AUC-mean  test-AUC-std  \n",
       "0            0.003277       0.527207      0.024999  \n",
       "1            0.003876       0.623304      0.052296  \n",
       "2            0.002449       0.785451      0.022382  \n",
       "3            0.001322       0.812158      0.009366  \n",
       "4            0.001980       0.827724      0.008529  \n",
       "..                ...            ...           ...  \n",
       "88           0.002518       0.855637      0.007536  \n",
       "89           0.002512       0.855040      0.007574  \n",
       "90           0.002543       0.854600      0.007792  \n",
       "91           0.002528       0.855070      0.007626  \n",
       "92           0.002439       0.854859      0.007425  \n",
       "\n",
       "[93 rows x 7 columns]"
      ]
     },
     "execution_count": 26,
     "metadata": {},
     "output_type": "execute_result"
    }
   ],
   "source": [
    "cv_data"
   ]
  },
  {
   "cell_type": "code",
   "execution_count": 27,
   "id": "421de008",
   "metadata": {
    "execution": {
     "iopub.execute_input": "2021-10-02T12:38:19.345786Z",
     "iopub.status.busy": "2021-10-02T12:38:19.345009Z",
     "iopub.status.idle": "2021-10-02T12:38:19.348864Z",
     "shell.execute_reply": "2021-10-02T12:38:19.349325Z",
     "shell.execute_reply.started": "2021-09-26T10:59:54.356505Z"
    },
    "papermill": {
     "duration": 0.065636,
     "end_time": "2021-10-02T12:38:19.349527",
     "exception": false,
     "start_time": "2021-10-02T12:38:19.283891",
     "status": "completed"
    },
    "tags": []
   },
   "outputs": [
    {
     "name": "stdout",
     "output_type": "stream",
     "text": [
      "Best validation Logloss score, not stratified: 0.1583±0.0093 on step 68\n"
     ]
    }
   ],
   "source": [
    "best_value = np.min(cv_data['test-Logloss-mean'])\n",
    "best_iter = np.argmin(cv_data['test-Logloss-mean'])\n",
    "\n",
    "print('Best validation Logloss score, not stratified: {:.4f}±{:.4f} on step {}'.format(\n",
    "    best_value,\n",
    "    cv_data['test-Logloss-std'][best_iter],\n",
    "    best_iter)\n",
    ")"
   ]
  },
  {
   "cell_type": "code",
   "execution_count": 28,
   "id": "27a75019",
   "metadata": {
    "execution": {
     "iopub.execute_input": "2021-10-02T12:38:19.463619Z",
     "iopub.status.busy": "2021-10-02T12:38:19.462923Z",
     "iopub.status.idle": "2021-10-02T12:38:20.029344Z",
     "shell.execute_reply": "2021-10-02T12:38:20.028321Z",
     "shell.execute_reply.started": "2021-09-26T11:00:22.878832Z"
    },
    "papermill": {
     "duration": 0.625591,
     "end_time": "2021-10-02T12:38:20.029560",
     "exception": false,
     "start_time": "2021-10-02T12:38:19.403969",
     "status": "completed"
    },
    "tags": []
   },
   "outputs": [],
   "source": [
    "test = pd.read_csv('/kaggle/input/amazon-employee-access-challenge/test.csv')\n",
    "predictions = model.predict_proba(test_x)"
   ]
  },
  {
   "cell_type": "code",
   "execution_count": 29,
   "id": "f4bf8ad1",
   "metadata": {
    "collapsed": true,
    "execution": {
     "iopub.execute_input": "2021-10-02T12:38:20.144701Z",
     "iopub.status.busy": "2021-10-02T12:38:20.144016Z",
     "iopub.status.idle": "2021-10-02T12:38:20.161586Z",
     "shell.execute_reply": "2021-10-02T12:38:20.161013Z",
     "shell.execute_reply.started": "2021-10-02T12:31:07.940648Z"
    },
    "jupyter": {
     "outputs_hidden": true
    },
    "papermill": {
     "duration": 0.077504,
     "end_time": "2021-10-02T12:38:20.161736",
     "exception": false,
     "start_time": "2021-10-02T12:38:20.084232",
     "status": "completed"
    },
    "tags": []
   },
   "outputs": [
    {
     "data": {
      "text/plain": [
       "(array([9.16831740e-04, 9.36338929e-04, 1.03231967e-03, ...,\n",
       "        9.98967680e-01, 9.99063661e-01, 9.99083168e-01]),\n",
       " array([1, 1, 1, ..., 1, 1, 1]))"
      ]
     },
     "execution_count": 29,
     "metadata": {},
     "output_type": "execute_result"
    }
   ],
   "source": [
    "np.unique(predictions, return_counts= True)"
   ]
  },
  {
   "cell_type": "code",
   "execution_count": 30,
   "id": "7498abfc",
   "metadata": {
    "execution": {
     "iopub.execute_input": "2021-10-02T12:38:20.276395Z",
     "iopub.status.busy": "2021-10-02T12:38:20.275708Z",
     "iopub.status.idle": "2021-10-02T12:38:20.278999Z",
     "shell.execute_reply": "2021-10-02T12:38:20.278354Z",
     "shell.execute_reply.started": "2021-10-02T12:33:43.687732Z"
    },
    "papermill": {
     "duration": 0.062741,
     "end_time": "2021-10-02T12:38:20.279139",
     "exception": false,
     "start_time": "2021-10-02T12:38:20.216398",
     "status": "completed"
    },
    "tags": []
   },
   "outputs": [],
   "source": [
    "predictions = predictions[:,1]"
   ]
  },
  {
   "cell_type": "code",
   "execution_count": 31,
   "id": "3952dc6c",
   "metadata": {
    "execution": {
     "iopub.execute_input": "2021-10-02T12:38:20.398662Z",
     "iopub.status.busy": "2021-10-02T12:38:20.397686Z",
     "iopub.status.idle": "2021-10-02T12:38:20.638024Z",
     "shell.execute_reply": "2021-10-02T12:38:20.637263Z",
     "shell.execute_reply.started": "2021-10-02T12:33:56.400465Z"
    },
    "papermill": {
     "duration": 0.303885,
     "end_time": "2021-10-02T12:38:20.638184",
     "exception": false,
     "start_time": "2021-10-02T12:38:20.334299",
     "status": "completed"
    },
    "tags": []
   },
   "outputs": [],
   "source": [
    "os.chdir('/kaggle/working/')\n",
    "os.curdir\n",
    "sol = pd.DataFrame(predictions)\n",
    "\n",
    "\n",
    "sol = sol.rename(columns={0:'Action'})\n",
    "sol.index = range(1, 58922,1)\n",
    "sol = sol.rename_axis('Id')\n",
    "sol.to_csv('submission.csv')"
   ]
  },
  {
   "cell_type": "markdown",
   "id": "bf4b8881",
   "metadata": {
    "papermill": {
     "duration": 0.055468,
     "end_time": "2021-10-02T12:38:20.749811",
     "exception": false,
     "start_time": "2021-10-02T12:38:20.694343",
     "status": "completed"
    },
    "tags": []
   },
   "source": [
    "We finally get a accuracy score of 0.90126"
   ]
  }
 ],
 "metadata": {
  "kernelspec": {
   "display_name": "Python 3",
   "language": "python",
   "name": "python3"
  },
  "language_info": {
   "codemirror_mode": {
    "name": "ipython",
    "version": 3
   },
   "file_extension": ".py",
   "mimetype": "text/x-python",
   "name": "python",
   "nbconvert_exporter": "python",
   "pygments_lexer": "ipython3",
   "version": "3.7.10"
  },
  "papermill": {
   "default_parameters": {},
   "duration": 178.031123,
   "end_time": "2021-10-02T12:38:22.779854",
   "environment_variables": {},
   "exception": null,
   "input_path": "__notebook__.ipynb",
   "output_path": "__notebook__.ipynb",
   "parameters": {},
   "start_time": "2021-10-02T12:35:24.748731",
   "version": "2.3.3"
  }
 },
 "nbformat": 4,
 "nbformat_minor": 5
}
